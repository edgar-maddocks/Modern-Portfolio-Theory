{
 "cells": [
  {
   "cell_type": "markdown",
   "id": "1d6677c6-4540-4a17-8f75-d0f7d722943b",
   "metadata": {
    "tags": []
   },
   "source": [
    "Forumla for expected return is as follows:\n",
    "\n",
    "\n",
    "$\\Large \\hat{r} = \\frac {\\sum\\limits_{t=1}^{T} r_{t} w_{t}}{T}$\n",
    "\n",
    "Where T is the number of time periods, t is a given time period, $r_{t}$ is the return of a given time period, and $w_{t}$ is the weight\n"
   ]
  },
  {
   "cell_type": "markdown",
   "id": "0bb1f516-1eb4-49cf-b50c-bbb36ba3fc9a",
   "metadata": {
    "tags": []
   },
   "source": [
    "Forumla for variance squared of a potential asset, using expected return is:\n",
    "\n",
    "$\\Large \\hat{\\sigma}^{2} = \\frac{\\sum\\limits_{t=1}^{T} (r_{t} - \\hat{r})^{2}}{T-1}$"
   ]
  },
  {
   "cell_type": "markdown",
   "id": "20120635-0bd7-49e5-bcf7-dda0165b50eb",
   "metadata": {},
   "source": [
    "Formula for the covariance of two potential assets, i and j is as follows:\n",
    "    \n",
    "$ \\Large \\hat{\\sigma} = \\frac{\\sum\\limits_{t=1}^{T} (r_{it} - \\hat{r}_{i})(r_{jt} - \\hat{r}_{j})}{N-1} $"
   ]
  },
  {
   "cell_type": "markdown",
   "id": "8952f74c-12eb-490e-9a7a-0062c6ddff94",
   "metadata": {},
   "source": [
    "Forumla for the correlation of two potential assets, i and j is as follows:\n",
    "\n",
    "$\\Large \\hat{\\rho} = \\frac {\\hat{\\sigma}_{i,j}}{\\hat{\\sigma}_{i}\\hat{\\sigma}_{j}}$\n",
    "\n",
    "\n",
    "The closer the correlation of two potential assets is to 1, the more similar their movements are"
   ]
  },
  {
   "cell_type": "markdown",
   "id": "dce31894-dc4b-4803-ad02-334d3ae54604",
   "metadata": {},
   "source": [
    "To optimize weightings in a portfolio we can view as an optimization problem where:\n",
    "    \n",
    "$$\n",
    "\\Large \\min \\frac{1}{2} w^{T} \\Sigma w \\\\[1.5cm]\n",
    "\\Large \\text{s.t. }  m^{T}w \\geq \\mu_{b} \\\\\n",
    "\\Large e^{T}w = 1\n",
    "$$\n",
    "\n",
    "Where $w$ is a vector of the portfolio weightings\n",
    "\n",
    "$\\Sigma$ is a covariance matrix\n",
    "\n",
    "$m$ is a vector of asset returns\n",
    "\n",
    "$e$ is a vector of 1s\n",
    "\n",
    "and $\\mu_{b}$ is the minimum desired return of the portfolio"
   ]
  },
  {
   "cell_type": "code",
   "execution_count": null,
   "id": "385ce47b-80e1-451a-a99f-cf46665099c2",
   "metadata": {},
   "outputs": [],
   "source": []
  }
 ],
 "metadata": {
  "kernelspec": {
   "display_name": "Python 3",
   "language": "python",
   "name": "python3"
  },
  "language_info": {
   "codemirror_mode": {
    "name": "ipython",
    "version": 3
   },
   "file_extension": ".py",
   "mimetype": "text/x-python",
   "name": "python",
   "nbconvert_exporter": "python",
   "pygments_lexer": "ipython3",
   "version": "3.11.5"
  }
 },
 "nbformat": 4,
 "nbformat_minor": 5
}
